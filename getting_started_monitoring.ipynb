{
  "nbformat": 4,
  "nbformat_minor": 0,
  "metadata": {
    "colab": {
      "provenance": []
    },
    "kernelspec": {
      "name": "python3",
      "display_name": "Python 3"
    },
    "language_info": {
      "name": "python"
    }
  },
  "cells": [
    {
      "cell_type": "markdown",
      "source": [
        "# Installation\n",
        "\n",
        "You need to install BlueTarget library in order to get started with monitoring."
      ],
      "metadata": {
        "id": "lbeeIjhbmYuo"
      }
    },
    {
      "cell_type": "code",
      "execution_count": null,
      "metadata": {
        "id": "T9xGJ4yajA5v"
      },
      "outputs": [],
      "source": [
        "pip install bluetarget sklearn"
      ]
    },
    {
      "cell_type": "markdown",
      "source": [
        "# Quick Start\n",
        "\n",
        "Lets us consider a simple model trained on iris dataset to get started with monitoring."
      ],
      "metadata": {
        "id": "flnsDtNWmfTQ"
      }
    },
    {
      "cell_type": "code",
      "source": [
        "import pandas as pd\n",
        "import numpy as np\n",
        "from sklearn import datasets\n",
        "from sklearn import svm\n",
        "from sklearn.model_selection import train_test_split\n",
        "\n",
        "iris = datasets.load_iris()\n",
        "iris_frame = pd.DataFrame(iris.data, columns = iris.feature_names)\n",
        "X = iris.data\n",
        "y = np.array([iris.target_names[i] for i in iris.target])\n",
        "\n",
        "X_train, X_test, y_train, y_test = train_test_split(X, y, test_size=0.2)\n",
        "\n",
        "# Model Training\n",
        "clf = svm.SVC(gamma='scale', kernel='rbf', probability=True)\n",
        "clf.fit(X, y)\n",
        "\n",
        "prediction_probabilities = list(clf.predict_proba(X))\n",
        "prediction = list(clf.predict(X))"
      ],
      "metadata": {
        "id": "hxyFu9aPkIB2"
      },
      "execution_count": null,
      "outputs": []
    },
    {
      "cell_type": "markdown",
      "source": [
        "# Create the model schema\n",
        "Let us create the monitor and then create the monitor schema version."
      ],
      "metadata": {
        "id": "qvBUOyoLmi23"
      }
    },
    {
      "cell_type": "code",
      "source": [
        "from bluetarget import Monitor, ModelSchema, ModelSchemaVersion, MonitorPredictionType, MonitorSchemaType, Prediction\n",
        "\n",
        "import uuid\n",
        "\n",
        "monitor = Monitor(api_key=\"__YOUR_API__KEY__\")\n",
        "\n",
        "id = uuid.uuid4().hex\n",
        "\n",
        "# Create monitor\n",
        "monitor.create(\n",
        "    ModelSchema(\n",
        "        monitorId=id,\n",
        "        name=\"Iris sklearn\",\n",
        "        description=\"sklearn model, rbf kernel\",\n",
        "        predictionType=MonitorPredictionType.CATEGORICAL,\n",
        "    )\n",
        ")\n",
        "\n",
        "# Create a version of the monitor with the model schema\n",
        "monitor.create_version(id, ModelSchemaVersion(\n",
        "    versionId=\"v1\",\n",
        "    model_schema={\n",
        "        \"sepal_length\": MonitorSchemaType.FLOAT,\n",
        "        \"sepal_width\": MonitorSchemaType.FLOAT,\n",
        "        \"petal_length\": MonitorSchemaType.FLOAT,\n",
        "        \"petal_width\": MonitorSchemaType.FLOAT\n",
        "    }\n",
        "))\n"
      ],
      "metadata": {
        "id": "vzqtNbUpnJ_J"
      },
      "execution_count": null,
      "outputs": []
    },
    {
      "cell_type": "markdown",
      "source": [
        "# Logging the predictions and actuals\n",
        "\n",
        "Let us create fake inference to show how it works"
      ],
      "metadata": {
        "id": "oyk7qruXmqb-"
      }
    },
    {
      "cell_type": "code",
      "source": [
        "feature_names = [\"sepal_length\", \"sepal_width\", \"petal_length\", \"petal_width\"]\n",
        "\n",
        "for i in range(150):\n",
        "\n",
        "    features = {feature_names[j]: float(X[i][j]) for j in range(4)}\n",
        "\n",
        "    probabilities = {iris.target_names[j]: float(\n",
        "        prediction_probabilities[i][j]) for j in range(3)}\n",
        "\n",
        "    monitor.log_predictions([\n",
        "        Prediction(\n",
        "            prediction_id=uuid.uuid4().hex,\n",
        "            features=features,\n",
        "            value=prediction[i],\n",
        "            probabilities=probabilities\n",
        "        )\n",
        "    ])\n"
      ],
      "metadata": {
        "id": "HxFbQBHj-7PX"
      },
      "execution_count": null,
      "outputs": []
    }
  ]
}