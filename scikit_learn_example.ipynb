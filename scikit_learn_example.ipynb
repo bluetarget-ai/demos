{
  "nbformat": 4,
  "nbformat_minor": 0,
  "metadata": {
    "colab": {
      "provenance": [],
      "collapsed_sections": []
    },
    "kernelspec": {
      "name": "python3",
      "display_name": "Python 3"
    },
    "language_info": {
      "name": "python"
    }
  },
  "cells": [
    {
      "cell_type": "code",
      "execution_count": null,
      "metadata": {
        "colab": {
          "base_uri": "https://localhost:8080/"
        },
        "id": "5zpbXAInFK_8",
        "outputId": "4308de66-1ea3-4c1b-ab0f-7f5c9fabfe44"
      },
      "outputs": [
        {
          "output_type": "stream",
          "name": "stdout",
          "text": [
            "Looking in indexes: https://pypi.org/simple, https://us-python.pkg.dev/colab-wheels/public/simple/\n",
            "Requirement already satisfied: scikit-learn in /usr/local/lib/python3.7/dist-packages (1.0.2)\n",
            "Requirement already satisfied: pickle-mixin in /usr/local/lib/python3.7/dist-packages (1.0.2)\n",
            "Requirement already satisfied: bluetarget in /usr/local/lib/python3.7/dist-packages (0.1.12)\n",
            "Requirement already satisfied: threadpoolctl>=2.0.0 in /usr/local/lib/python3.7/dist-packages (from scikit-learn) (3.1.0)\n",
            "Requirement already satisfied: numpy>=1.14.6 in /usr/local/lib/python3.7/dist-packages (from scikit-learn) (1.21.6)\n",
            "Requirement already satisfied: scipy>=1.1.0 in /usr/local/lib/python3.7/dist-packages (from scikit-learn) (1.7.3)\n",
            "Requirement already satisfied: joblib>=0.11 in /usr/local/lib/python3.7/dist-packages (from scikit-learn) (1.2.0)\n",
            "Requirement already satisfied: requests<3.0,>=2.27 in /usr/local/lib/python3.7/dist-packages (from bluetarget) (2.28.1)\n",
            "Requirement already satisfied: click<9.0,>=8.1 in /usr/local/lib/python3.7/dist-packages (from bluetarget) (8.1.3)\n",
            "Requirement already satisfied: importlib-metadata in /usr/local/lib/python3.7/dist-packages (from click<9.0,>=8.1->bluetarget) (4.13.0)\n",
            "Requirement already satisfied: charset-normalizer<3,>=2 in /usr/local/lib/python3.7/dist-packages (from requests<3.0,>=2.27->bluetarget) (2.1.1)\n",
            "Requirement already satisfied: certifi>=2017.4.17 in /usr/local/lib/python3.7/dist-packages (from requests<3.0,>=2.27->bluetarget) (2022.9.24)\n",
            "Requirement already satisfied: urllib3<1.27,>=1.21.1 in /usr/local/lib/python3.7/dist-packages (from requests<3.0,>=2.27->bluetarget) (1.24.3)\n",
            "Requirement already satisfied: idna<4,>=2.5 in /usr/local/lib/python3.7/dist-packages (from requests<3.0,>=2.27->bluetarget) (2.10)\n",
            "Requirement already satisfied: zipp>=0.5 in /usr/local/lib/python3.7/dist-packages (from importlib-metadata->click<9.0,>=8.1->bluetarget) (3.9.0)\n",
            "Requirement already satisfied: typing-extensions>=3.6.4 in /usr/local/lib/python3.7/dist-packages (from importlib-metadata->click<9.0,>=8.1->bluetarget) (4.1.1)\n"
          ]
        }
      ],
      "source": [
        "pip install scikit-learn pickle-mixin bluetarget"
      ]
    },
    {
      "cell_type": "code",
      "source": [
        "from sklearn import svm\n",
        "from sklearn import datasets\n",
        "\n",
        "import pickle\n",
        "\n",
        "# Load training data set\n",
        "iris = datasets.load_iris()\n",
        "X, y = iris.data, iris.target\n",
        "\n",
        "# Train the model\n",
        "clf = svm.SVC(gamma='scale')\n",
        "clf.fit(X, y)\n",
        "\n",
        "pickle.dump(clf, open('./model.pkl', 'wb'))"
      ],
      "metadata": {
        "id": "wBeVkS6CKjkD"
      },
      "execution_count": null,
      "outputs": []
    },
    {
      "cell_type": "code",
      "source": [
        "%%writefile service.py\n",
        "import os\n",
        "from typing import Dict, List\n",
        "\n",
        "class Model:\n",
        "    def __init__(self) -> None:\n",
        "        self._model = None\n",
        "\n",
        "    def load(self):\n",
        "        import pickle\n",
        "\n",
        "        with open(f\"{os.path.dirname(__file__)}/model.pkl\", 'rb') as pickle_file:\n",
        "            self._model = pickle.load(pickle_file)\n",
        "\n",
        "    def predict(self, request: Dict) -> Dict[str, List]:\n",
        "        response = {}\n",
        "        inputs = request[\"inputs\"]\n",
        "        result = self._model.predict(inputs).tolist()\n",
        "        response[\"predictions\"] = result\n",
        "\n",
        "        return response"
      ],
      "metadata": {
        "colab": {
          "base_uri": "https://localhost:8080/"
        },
        "id": "Xx-e3mGOKnH_",
        "outputId": "4a7cc5a2-74a4-4387-d7b0-9d8885afba90"
      },
      "execution_count": null,
      "outputs": [
        {
          "output_type": "stream",
          "name": "stdout",
          "text": [
            "Writing service.py\n"
          ]
        }
      ]
    },
    {
      "cell_type": "code",
      "source": [
        "%%writefile requirements.txt\n",
        "scikit-learn==1.0.2\n",
        "pickle-mixin==1.0.2"
      ],
      "metadata": {
        "colab": {
          "base_uri": "https://localhost:8080/"
        },
        "id": "DjAhJT4uKqYQ",
        "outputId": "bc32ac17-6615-4623-d8ba-a30c431b7c94"
      },
      "execution_count": null,
      "outputs": [
        {
          "output_type": "stream",
          "name": "stdout",
          "text": [
            "Writing requirements.txt\n"
          ]
        }
      ]
    },
    {
      "cell_type": "code",
      "source": [
        "from bluetarget import BlueTarget\n",
        "\n",
        "bt = BlueTarget(api_key=\"YOUR_API_KEY\")\n",
        "\n",
        "bt.deploy(\n",
        "    model_name=\"FirstModel\",\n",
        "    model_class=\"Model\",\n",
        "    model_files=[\"service.py\", \"model.pkl\"],\n",
        "    requirements_file=\"requirements.txt\"\n",
        ")"
      ],
      "metadata": {
        "id": "MM9OJhX9KtWo"
      },
      "execution_count": null,
      "outputs": []
    }
  ]
}