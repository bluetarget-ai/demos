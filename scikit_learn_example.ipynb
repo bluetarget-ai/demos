{
  "nbformat": 4,
  "nbformat_minor": 0,
  "metadata": {
    "colab": {
      "provenance": [],
      "collapsed_sections": [],
      "authorship_tag": "ABX9TyM8uTvJB5RiMnEBenVdBaz+"
    },
    "kernelspec": {
      "name": "python3",
      "display_name": "Python 3"
    },
    "language_info": {
      "name": "python"
    }
  },
  "cells": [
    {
      "cell_type": "code",
      "execution_count": null,
      "metadata": {
        "id": "5zpbXAInFK_8"
      },
      "outputs": [],
      "source": [
        "pip install scikit-learn pickle-mixin bluetarget"
      ]
    },
    {
      "cell_type": "markdown",
      "source": [
        "# Saving Model\n",
        "\n",
        "To begin with BlueTarget, you will need to save your trained models."
      ],
      "metadata": {
        "id": "NeccU__6zKs3"
      }
    },
    {
      "cell_type": "code",
      "source": [
        "from sklearn import svm\n",
        "from sklearn import datasets\n",
        "\n",
        "import pickle\n",
        "\n",
        "# Load training data set\n",
        "iris = datasets.load_iris()\n",
        "X, y = iris.data, iris.target\n",
        "\n",
        "# Train the model\n",
        "clf = svm.SVC(gamma='scale')\n",
        "clf.fit(X, y)\n",
        "\n",
        "pickle.dump(clf, open('./model.pkl', 'wb'))"
      ],
      "metadata": {
        "id": "wBeVkS6CKjkD"
      },
      "execution_count": null,
      "outputs": []
    },
    {
      "cell_type": "markdown",
      "source": [
        "\n",
        "# Creating a service\n",
        "\n",
        "Services are the core components of BlueTarget, where the serving logic is defined. Create a file name service.py with:"
      ],
      "metadata": {
        "id": "5oRYo8zezOY2"
      }
    },
    {
      "cell_type": "code",
      "source": [
        "%%writefile service.py\n",
        "import os\n",
        "from typing import Dict, List\n",
        "\n",
        "class Model:\n",
        "    def __init__(self) -> None:\n",
        "        self._model = None\n",
        "\n",
        "    def load(self):\n",
        "        import pickle\n",
        "\n",
        "        with open(f\"{os.path.dirname(__file__)}/model.pkl\", 'rb') as pickle_file:\n",
        "            self._model = pickle.load(pickle_file)\n",
        "\n",
        "    def predict(self, request: Dict) -> Dict[str, List]:\n",
        "        response = {}\n",
        "        inputs = request[\"inputs\"]\n",
        "        result = self._model.predict(inputs).tolist()\n",
        "        response[\"predictions\"] = result\n",
        "\n",
        "        return response"
      ],
      "metadata": {
        "colab": {
          "base_uri": "https://localhost:8080/"
        },
        "id": "Xx-e3mGOKnH_",
        "outputId": "4a7cc5a2-74a4-4387-d7b0-9d8885afba90"
      },
      "execution_count": null,
      "outputs": [
        {
          "output_type": "stream",
          "name": "stdout",
          "text": [
            "Writing service.py\n"
          ]
        }
      ]
    },
    {
      "cell_type": "markdown",
      "source": [
        "# Create requirement file\n",
        "Here is where you define your model requirements, in our case we have  scikit-learn pickle-mixin dependencies"
      ],
      "metadata": {
        "id": "1cvkhjv4zemW"
      }
    },
    {
      "cell_type": "code",
      "source": [
        "%%writefile requirements.txt\n",
        "scikit-learn==1.0.2\n",
        "pickle-mixin==1.0.2"
      ],
      "metadata": {
        "colab": {
          "base_uri": "https://localhost:8080/"
        },
        "id": "DjAhJT4uKqYQ",
        "outputId": "bc32ac17-6615-4623-d8ba-a30c431b7c94"
      },
      "execution_count": null,
      "outputs": [
        {
          "output_type": "stream",
          "name": "stdout",
          "text": [
            "Writing requirements.txt\n"
          ]
        }
      ]
    },
    {
      "cell_type": "markdown",
      "source": [
        "# Create a deployment file\n",
        "\n",
        "Here you define the deployment configuration, you also can integrate this logic within your deployment pipeline.\n",
        "\n",
        "You can get your API KEY cliking [here](https://deploy.bluetarget.ai/api-keys) \n"
      ],
      "metadata": {
        "id": "jxccxINYzkfY"
      }
    },
    {
      "cell_type": "code",
      "source": [
        "from bluetarget import BlueTarget\n",
        "\n",
        "bt = BlueTarget(api_key=\"YOUR_API_KEY\")\n",
        "\n",
        "bt.deploy(\n",
        "    model_name=\"FirstModel\",\n",
        "    model_class=\"Model\",\n",
        "    model_files=[\"service.py\", \"model.pkl\"],\n",
        "    requirements_file=\"requirements.txt\"\n",
        ")"
      ],
      "metadata": {
        "id": "MM9OJhX9KtWo"
      },
      "execution_count": null,
      "outputs": []
    }
  ]
}